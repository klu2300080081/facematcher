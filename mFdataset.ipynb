{
 "cells": [
  {
   "cell_type": "code",
   "execution_count": 1,
   "id": "e22ad77f",
   "metadata": {},
   "outputs": [],
   "source": [
    "import os\n",
    "import pandas as pd"
   ]
  },
  {
   "cell_type": "code",
   "execution_count": 2,
   "id": "216e83b2",
   "metadata": {},
   "outputs": [
    {
     "name": "stdout",
     "output_type": "stream",
     "text": [
      "['.ipynb_checkpoints', '1.jpeg', '2.png', 'Cricketers', 'dataFrame.ipynb', 'English', 'Femalepatterns.pkl', 'final.py', 'genderClassifier.h5', 'haarcascade_frontalface_default.xml', 'Hindi', 'IMG-20250112-WA0083.jpg', 'Kannada', 'Malayalam', 'Malepatterns.pkl', 'mFdataset.ipynb', 'Paths_Names.pkl', 'prototype-2.ipynb', 'prototype.ipynb', 'SMD-1.jpg', 'Tamil', 'Telugu', 'testing.ipynb', 'VGGnet.h5', 'vgg_face_weights.h5', 'vgg_face_weights.h5.zip']\n"
     ]
    }
   ],
   "source": [
    "Root=os.getcwd()\n",
    "\n",
    "path=os.getcwd()\n",
    "directories=os.listdir()\n",
    "print(directories)"
   ]
  },
  {
   "cell_type": "code",
   "execution_count": 3,
   "id": "7edbe03e",
   "metadata": {},
   "outputs": [
    {
     "name": "stdout",
     "output_type": "stream",
     "text": [
      "['Cricketers', 'English', 'Hindi', 'Kannada', 'Malayalam', 'Tamil', 'Telugu']\n"
     ]
    }
   ],
   "source": [
    "t=[]\n",
    "for i in directories:\n",
    "    if '.' not in i:\n",
    "        t.append(i)\n",
    "directories=t\n",
    "print(directories)"
   ]
  },
  {
   "cell_type": "code",
   "execution_count": 4,
   "id": "65e76f88",
   "metadata": {},
   "outputs": [],
   "source": [
    "male_img=[]\n",
    "male_names=[]\n",
    "female_img=[]\n",
    "female_names=[]"
   ]
  },
  {
   "cell_type": "code",
   "execution_count": 5,
   "id": "4210833c",
   "metadata": {},
   "outputs": [
    {
     "name": "stdout",
     "output_type": "stream",
     "text": [
      "['SMRITHI MANDHANA']\n",
      "Female\n",
      "['SMRITHI MANDHANA']\n",
      "SMRITHI MANDHANA\n",
      "['BHUWANESWAR KUMAR', 'DAVID WARNER', 'GLENN MAXWELL', 'KANE WILLIAMSON', 'MS DHONI', 'NEERAJ CHOPRA', 'ROHIT SHARMA', 'SACHIN', 'SIKHAR DHAWAN', 'SURESH RAINA', 'VIRAT KOHLI']\n",
      "Male\n",
      "['BHUWANESWAR KUMAR', 'DAVID WARNER', 'GLENN MAXWELL', 'KANE WILLIAMSON', 'MS DHONI', 'NEERAJ CHOPRA', 'ROHIT SHARMA', 'SACHIN', 'SIKHAR DHAWAN', 'SURESH RAINA', 'VIRAT KOHLI']\n",
      "BHUWANESWAR KUMAR\n",
      "['BHUWANESWAR KUMAR', 'DAVID WARNER', 'GLENN MAXWELL', 'KANE WILLIAMSON', 'MS DHONI', 'NEERAJ CHOPRA', 'ROHIT SHARMA', 'SACHIN', 'SIKHAR DHAWAN', 'SURESH RAINA', 'VIRAT KOHLI']\n",
      "DAVID WARNER\n",
      "['BHUWANESWAR KUMAR', 'DAVID WARNER', 'GLENN MAXWELL', 'KANE WILLIAMSON', 'MS DHONI', 'NEERAJ CHOPRA', 'ROHIT SHARMA', 'SACHIN', 'SIKHAR DHAWAN', 'SURESH RAINA', 'VIRAT KOHLI']\n",
      "GLENN MAXWELL\n",
      "['BHUWANESWAR KUMAR', 'DAVID WARNER', 'GLENN MAXWELL', 'KANE WILLIAMSON', 'MS DHONI', 'NEERAJ CHOPRA', 'ROHIT SHARMA', 'SACHIN', 'SIKHAR DHAWAN', 'SURESH RAINA', 'VIRAT KOHLI']\n",
      "KANE WILLIAMSON\n",
      "['BHUWANESWAR KUMAR', 'DAVID WARNER', 'GLENN MAXWELL', 'KANE WILLIAMSON', 'MS DHONI', 'NEERAJ CHOPRA', 'ROHIT SHARMA', 'SACHIN', 'SIKHAR DHAWAN', 'SURESH RAINA', 'VIRAT KOHLI']\n",
      "MS DHONI\n",
      "['BHUWANESWAR KUMAR', 'DAVID WARNER', 'GLENN MAXWELL', 'KANE WILLIAMSON', 'MS DHONI', 'NEERAJ CHOPRA', 'ROHIT SHARMA', 'SACHIN', 'SIKHAR DHAWAN', 'SURESH RAINA', 'VIRAT KOHLI']\n",
      "NEERAJ CHOPRA\n",
      "['BHUWANESWAR KUMAR', 'DAVID WARNER', 'GLENN MAXWELL', 'KANE WILLIAMSON', 'MS DHONI', 'NEERAJ CHOPRA', 'ROHIT SHARMA', 'SACHIN', 'SIKHAR DHAWAN', 'SURESH RAINA', 'VIRAT KOHLI']\n",
      "ROHIT SHARMA\n",
      "['BHUWANESWAR KUMAR', 'DAVID WARNER', 'GLENN MAXWELL', 'KANE WILLIAMSON', 'MS DHONI', 'NEERAJ CHOPRA', 'ROHIT SHARMA', 'SACHIN', 'SIKHAR DHAWAN', 'SURESH RAINA', 'VIRAT KOHLI']\n",
      "SACHIN\n",
      "['BHUWANESWAR KUMAR', 'DAVID WARNER', 'GLENN MAXWELL', 'KANE WILLIAMSON', 'MS DHONI', 'NEERAJ CHOPRA', 'ROHIT SHARMA', 'SACHIN', 'SIKHAR DHAWAN', 'SURESH RAINA', 'VIRAT KOHLI']\n",
      "SIKHAR DHAWAN\n",
      "['BHUWANESWAR KUMAR', 'DAVID WARNER', 'GLENN MAXWELL', 'KANE WILLIAMSON', 'MS DHONI', 'NEERAJ CHOPRA', 'ROHIT SHARMA', 'SACHIN', 'SIKHAR DHAWAN', 'SURESH RAINA', 'VIRAT KOHLI']\n",
      "SURESH RAINA\n",
      "['BHUWANESWAR KUMAR', 'DAVID WARNER', 'GLENN MAXWELL', 'KANE WILLIAMSON', 'MS DHONI', 'NEERAJ CHOPRA', 'ROHIT SHARMA', 'SACHIN', 'SIKHAR DHAWAN', 'SURESH RAINA', 'VIRAT KOHLI']\n",
      "VIRAT KOHLI\n",
      "[]\n",
      "Female\n",
      "['CHRIS EVANS', 'CHRIS HEMSWORTH', 'ROBERT DOWNEY', 'TOM HOLLAND']\n",
      "Male\n",
      "['CHRIS EVANS', 'CHRIS HEMSWORTH', 'ROBERT DOWNEY', 'TOM HOLLAND']\n",
      "CHRIS EVANS\n",
      "['CHRIS EVANS', 'CHRIS HEMSWORTH', 'ROBERT DOWNEY', 'TOM HOLLAND']\n",
      "CHRIS HEMSWORTH\n",
      "['CHRIS EVANS', 'CHRIS HEMSWORTH', 'ROBERT DOWNEY', 'TOM HOLLAND']\n",
      "ROBERT DOWNEY\n",
      "['CHRIS EVANS', 'CHRIS HEMSWORTH', 'ROBERT DOWNEY', 'TOM HOLLAND']\n",
      "TOM HOLLAND\n",
      "[]\n",
      "Female\n",
      "[]\n",
      "Male\n",
      "['ASHIKA RANGANATH', 'RUKMINI VASANTH', 'SRINIDHI SHETTY']\n",
      "Female\n",
      "['ASHIKA RANGANATH', 'RUKMINI VASANTH', 'SRINIDHI SHETTY']\n",
      "ASHIKA RANGANATH\n",
      "['ASHIKA RANGANATH', 'RUKMINI VASANTH', 'SRINIDHI SHETTY']\n",
      "RUKMINI VASANTH\n",
      "['ASHIKA RANGANATH', 'RUKMINI VASANTH', 'SRINIDHI SHETTY']\n",
      "SRINIDHI SHETTY\n",
      "['PUNEETH RAJKUMAR', 'RAKSHITH SHETTY', 'RISHAB SHETTY', 'SUDEEP KICCHA', 'UPENDRA', 'YASH']\n",
      "Male\n",
      "['PUNEETH RAJKUMAR', 'RAKSHITH SHETTY', 'RISHAB SHETTY', 'SUDEEP KICCHA', 'UPENDRA', 'YASH']\n",
      "PUNEETH RAJKUMAR\n",
      "['PUNEETH RAJKUMAR', 'RAKSHITH SHETTY', 'RISHAB SHETTY', 'SUDEEP KICCHA', 'UPENDRA', 'YASH']\n",
      "RAKSHITH SHETTY\n",
      "['PUNEETH RAJKUMAR', 'RAKSHITH SHETTY', 'RISHAB SHETTY', 'SUDEEP KICCHA', 'UPENDRA', 'YASH']\n",
      "RISHAB SHETTY\n",
      "['PUNEETH RAJKUMAR', 'RAKSHITH SHETTY', 'RISHAB SHETTY', 'SUDEEP KICCHA', 'UPENDRA', 'YASH']\n",
      "SUDEEP KICCHA\n",
      "['PUNEETH RAJKUMAR', 'RAKSHITH SHETTY', 'RISHAB SHETTY', 'SUDEEP KICCHA', 'UPENDRA', 'YASH']\n",
      "UPENDRA\n",
      "['PUNEETH RAJKUMAR', 'RAKSHITH SHETTY', 'RISHAB SHETTY', 'SUDEEP KICCHA', 'UPENDRA', 'YASH']\n",
      "YASH\n",
      "['Akhila Bhargavan', 'Anaswara rajan', 'ANIKHA SURENDRAN', 'Mamith Baiju', 'Nazriya nazima', 'SAMYUKHTA MENON']\n",
      "Female\n",
      "['Akhila Bhargavan', 'Anaswara rajan', 'ANIKHA SURENDRAN', 'Mamith Baiju', 'Nazriya nazima', 'SAMYUKHTA MENON']\n",
      "Akhila Bhargavan\n",
      "['Akhila Bhargavan', 'Anaswara rajan', 'ANIKHA SURENDRAN', 'Mamith Baiju', 'Nazriya nazima', 'SAMYUKHTA MENON']\n",
      "Anaswara rajan\n",
      "['Akhila Bhargavan', 'Anaswara rajan', 'ANIKHA SURENDRAN', 'Mamith Baiju', 'Nazriya nazima', 'SAMYUKHTA MENON']\n",
      "ANIKHA SURENDRAN\n",
      "['Akhila Bhargavan', 'Anaswara rajan', 'ANIKHA SURENDRAN', 'Mamith Baiju', 'Nazriya nazima', 'SAMYUKHTA MENON']\n",
      "Mamith Baiju\n",
      "['Akhila Bhargavan', 'Anaswara rajan', 'ANIKHA SURENDRAN', 'Mamith Baiju', 'Nazriya nazima', 'SAMYUKHTA MENON']\n",
      "Nazriya nazima\n",
      "['Akhila Bhargavan', 'Anaswara rajan', 'ANIKHA SURENDRAN', 'Mamith Baiju', 'Nazriya nazima', 'SAMYUKHTA MENON']\n",
      "SAMYUKHTA MENON\n",
      "['Althaf Salim', 'DULQER SALMAN', 'FAHADHFASIL', 'Mathew Thomas', 'Naslen K. Gafoor', 'PRANAV MOHANLAL', 'PRUDHVIRAJ SUKUMARAN', 'Sangeeth Prathap', 'Shyam Mohan', 'TOVINO THOMAS']\n",
      "Male\n",
      "['Althaf Salim', 'DULQER SALMAN', 'FAHADHFASIL', 'Mathew Thomas', 'Naslen K. Gafoor', 'PRANAV MOHANLAL', 'PRUDHVIRAJ SUKUMARAN', 'Sangeeth Prathap', 'Shyam Mohan', 'TOVINO THOMAS']\n",
      "Althaf Salim\n",
      "['Althaf Salim', 'DULQER SALMAN', 'FAHADHFASIL', 'Mathew Thomas', 'Naslen K. Gafoor', 'PRANAV MOHANLAL', 'PRUDHVIRAJ SUKUMARAN', 'Sangeeth Prathap', 'Shyam Mohan', 'TOVINO THOMAS']\n",
      "DULQER SALMAN\n",
      "['Althaf Salim', 'DULQER SALMAN', 'FAHADHFASIL', 'Mathew Thomas', 'Naslen K. Gafoor', 'PRANAV MOHANLAL', 'PRUDHVIRAJ SUKUMARAN', 'Sangeeth Prathap', 'Shyam Mohan', 'TOVINO THOMAS']\n",
      "FAHADHFASIL\n",
      "['Althaf Salim', 'DULQER SALMAN', 'FAHADHFASIL', 'Mathew Thomas', 'Naslen K. Gafoor', 'PRANAV MOHANLAL', 'PRUDHVIRAJ SUKUMARAN', 'Sangeeth Prathap', 'Shyam Mohan', 'TOVINO THOMAS']\n",
      "Mathew Thomas\n",
      "['Althaf Salim', 'DULQER SALMAN', 'FAHADHFASIL', 'Mathew Thomas', 'Naslen K. Gafoor', 'PRANAV MOHANLAL', 'PRUDHVIRAJ SUKUMARAN', 'Sangeeth Prathap', 'Shyam Mohan', 'TOVINO THOMAS']\n",
      "Naslen K. Gafoor\n",
      "['Althaf Salim', 'DULQER SALMAN', 'FAHADHFASIL', 'Mathew Thomas', 'Naslen K. Gafoor', 'PRANAV MOHANLAL', 'PRUDHVIRAJ SUKUMARAN', 'Sangeeth Prathap', 'Shyam Mohan', 'TOVINO THOMAS']\n",
      "PRANAV MOHANLAL\n",
      "['Althaf Salim', 'DULQER SALMAN', 'FAHADHFASIL', 'Mathew Thomas', 'Naslen K. Gafoor', 'PRANAV MOHANLAL', 'PRUDHVIRAJ SUKUMARAN', 'Sangeeth Prathap', 'Shyam Mohan', 'TOVINO THOMAS']\n",
      "PRUDHVIRAJ SUKUMARAN\n",
      "['Althaf Salim', 'DULQER SALMAN', 'FAHADHFASIL', 'Mathew Thomas', 'Naslen K. Gafoor', 'PRANAV MOHANLAL', 'PRUDHVIRAJ SUKUMARAN', 'Sangeeth Prathap', 'Shyam Mohan', 'TOVINO THOMAS']\n",
      "Sangeeth Prathap\n",
      "['Althaf Salim', 'DULQER SALMAN', 'FAHADHFASIL', 'Mathew Thomas', 'Naslen K. Gafoor', 'PRANAV MOHANLAL', 'PRUDHVIRAJ SUKUMARAN', 'Sangeeth Prathap', 'Shyam Mohan', 'TOVINO THOMAS']\n",
      "Shyam Mohan\n",
      "['Althaf Salim', 'DULQER SALMAN', 'FAHADHFASIL', 'Mathew Thomas', 'Naslen K. Gafoor', 'PRANAV MOHANLAL', 'PRUDHVIRAJ SUKUMARAN', 'Sangeeth Prathap', 'Shyam Mohan', 'TOVINO THOMAS']\n",
      "TOVINO THOMAS\n",
      "[]\n",
      "Female\n",
      "['ANIRUDH', 'ARJUN DAS', 'DHANUSH', 'KAMAL HASAN', 'KARTHI', 'KAVIN', 'PRADEEP RANGANATHAN', 'RAJINI KANTH', 'SIVAKARTHIKEYAN', 'SURIYA', 'VIJAY', 'VIKRAM']\n",
      "Male\n",
      "['ANIRUDH', 'ARJUN DAS', 'DHANUSH', 'KAMAL HASAN', 'KARTHI', 'KAVIN', 'PRADEEP RANGANATHAN', 'RAJINI KANTH', 'SIVAKARTHIKEYAN', 'SURIYA', 'VIJAY', 'VIKRAM']\n",
      "ANIRUDH\n",
      "['ANIRUDH', 'ARJUN DAS', 'DHANUSH', 'KAMAL HASAN', 'KARTHI', 'KAVIN', 'PRADEEP RANGANATHAN', 'RAJINI KANTH', 'SIVAKARTHIKEYAN', 'SURIYA', 'VIJAY', 'VIKRAM']\n",
      "ARJUN DAS\n",
      "['ANIRUDH', 'ARJUN DAS', 'DHANUSH', 'KAMAL HASAN', 'KARTHI', 'KAVIN', 'PRADEEP RANGANATHAN', 'RAJINI KANTH', 'SIVAKARTHIKEYAN', 'SURIYA', 'VIJAY', 'VIKRAM']\n",
      "DHANUSH\n",
      "['ANIRUDH', 'ARJUN DAS', 'DHANUSH', 'KAMAL HASAN', 'KARTHI', 'KAVIN', 'PRADEEP RANGANATHAN', 'RAJINI KANTH', 'SIVAKARTHIKEYAN', 'SURIYA', 'VIJAY', 'VIKRAM']\n",
      "KAMAL HASAN\n",
      "['ANIRUDH', 'ARJUN DAS', 'DHANUSH', 'KAMAL HASAN', 'KARTHI', 'KAVIN', 'PRADEEP RANGANATHAN', 'RAJINI KANTH', 'SIVAKARTHIKEYAN', 'SURIYA', 'VIJAY', 'VIKRAM']\n",
      "KARTHI\n",
      "['ANIRUDH', 'ARJUN DAS', 'DHANUSH', 'KAMAL HASAN', 'KARTHI', 'KAVIN', 'PRADEEP RANGANATHAN', 'RAJINI KANTH', 'SIVAKARTHIKEYAN', 'SURIYA', 'VIJAY', 'VIKRAM']\n",
      "KAVIN\n",
      "['ANIRUDH', 'ARJUN DAS', 'DHANUSH', 'KAMAL HASAN', 'KARTHI', 'KAVIN', 'PRADEEP RANGANATHAN', 'RAJINI KANTH', 'SIVAKARTHIKEYAN', 'SURIYA', 'VIJAY', 'VIKRAM']\n",
      "PRADEEP RANGANATHAN\n",
      "['ANIRUDH', 'ARJUN DAS', 'DHANUSH', 'KAMAL HASAN', 'KARTHI', 'KAVIN', 'PRADEEP RANGANATHAN', 'RAJINI KANTH', 'SIVAKARTHIKEYAN', 'SURIYA', 'VIJAY', 'VIKRAM']\n",
      "RAJINI KANTH\n",
      "['ANIRUDH', 'ARJUN DAS', 'DHANUSH', 'KAMAL HASAN', 'KARTHI', 'KAVIN', 'PRADEEP RANGANATHAN', 'RAJINI KANTH', 'SIVAKARTHIKEYAN', 'SURIYA', 'VIJAY', 'VIKRAM']\n",
      "SIVAKARTHIKEYAN\n",
      "['ANIRUDH', 'ARJUN DAS', 'DHANUSH', 'KAMAL HASAN', 'KARTHI', 'KAVIN', 'PRADEEP RANGANATHAN', 'RAJINI KANTH', 'SIVAKARTHIKEYAN', 'SURIYA', 'VIJAY', 'VIKRAM']\n",
      "SURIYA\n",
      "['ANIRUDH', 'ARJUN DAS', 'DHANUSH', 'KAMAL HASAN', 'KARTHI', 'KAVIN', 'PRADEEP RANGANATHAN', 'RAJINI KANTH', 'SIVAKARTHIKEYAN', 'SURIYA', 'VIJAY', 'VIKRAM']\n",
      "VIJAY\n",
      "['ANIRUDH', 'ARJUN DAS', 'DHANUSH', 'KAMAL HASAN', 'KARTHI', 'KAVIN', 'PRADEEP RANGANATHAN', 'RAJINI KANTH', 'SIVAKARTHIKEYAN', 'SURIYA', 'VIJAY', 'VIKRAM']\n",
      "VIKRAM\n",
      "['A S Reddy', 'AKHIL', 'ALLU ARJUN', 'ANAND DEVARAKONDA', 'CHIRANJEEVI', 'MAHESH BABU', 'NAGA CHAITANYA', 'NAVEEN POLISHETTY', 'NTR', 'PAWAN KALYAN', 'PRABHAS', 'PRAKASHRAJ', 'RANA', 'SAHIDEV VIKRAM', 'SAI DHARAM TEJ', 'SIDDHART', 'SUNDEEP KISHAN', 'VAINSHNAV TEJ', 'VARUN TEJ', 'VENKATESH', 'VIJAY DEVARA KONDA']\n",
      "Male\n",
      "['A S Reddy', 'AKHIL', 'ALLU ARJUN', 'ANAND DEVARAKONDA', 'CHIRANJEEVI', 'MAHESH BABU', 'NAGA CHAITANYA', 'NAVEEN POLISHETTY', 'NTR', 'PAWAN KALYAN', 'PRABHAS', 'PRAKASHRAJ', 'RANA', 'SAHIDEV VIKRAM', 'SAI DHARAM TEJ', 'SIDDHART', 'SUNDEEP KISHAN', 'VAINSHNAV TEJ', 'VARUN TEJ', 'VENKATESH', 'VIJAY DEVARA KONDA']\n",
      "A S Reddy\n",
      "['A S Reddy', 'AKHIL', 'ALLU ARJUN', 'ANAND DEVARAKONDA', 'CHIRANJEEVI', 'MAHESH BABU', 'NAGA CHAITANYA', 'NAVEEN POLISHETTY', 'NTR', 'PAWAN KALYAN', 'PRABHAS', 'PRAKASHRAJ', 'RANA', 'SAHIDEV VIKRAM', 'SAI DHARAM TEJ', 'SIDDHART', 'SUNDEEP KISHAN', 'VAINSHNAV TEJ', 'VARUN TEJ', 'VENKATESH', 'VIJAY DEVARA KONDA']\n",
      "AKHIL\n",
      "['A S Reddy', 'AKHIL', 'ALLU ARJUN', 'ANAND DEVARAKONDA', 'CHIRANJEEVI', 'MAHESH BABU', 'NAGA CHAITANYA', 'NAVEEN POLISHETTY', 'NTR', 'PAWAN KALYAN', 'PRABHAS', 'PRAKASHRAJ', 'RANA', 'SAHIDEV VIKRAM', 'SAI DHARAM TEJ', 'SIDDHART', 'SUNDEEP KISHAN', 'VAINSHNAV TEJ', 'VARUN TEJ', 'VENKATESH', 'VIJAY DEVARA KONDA']\n",
      "ALLU ARJUN\n",
      "['A S Reddy', 'AKHIL', 'ALLU ARJUN', 'ANAND DEVARAKONDA', 'CHIRANJEEVI', 'MAHESH BABU', 'NAGA CHAITANYA', 'NAVEEN POLISHETTY', 'NTR', 'PAWAN KALYAN', 'PRABHAS', 'PRAKASHRAJ', 'RANA', 'SAHIDEV VIKRAM', 'SAI DHARAM TEJ', 'SIDDHART', 'SUNDEEP KISHAN', 'VAINSHNAV TEJ', 'VARUN TEJ', 'VENKATESH', 'VIJAY DEVARA KONDA']\n",
      "ANAND DEVARAKONDA\n",
      "['A S Reddy', 'AKHIL', 'ALLU ARJUN', 'ANAND DEVARAKONDA', 'CHIRANJEEVI', 'MAHESH BABU', 'NAGA CHAITANYA', 'NAVEEN POLISHETTY', 'NTR', 'PAWAN KALYAN', 'PRABHAS', 'PRAKASHRAJ', 'RANA', 'SAHIDEV VIKRAM', 'SAI DHARAM TEJ', 'SIDDHART', 'SUNDEEP KISHAN', 'VAINSHNAV TEJ', 'VARUN TEJ', 'VENKATESH', 'VIJAY DEVARA KONDA']\n",
      "CHIRANJEEVI\n",
      "['A S Reddy', 'AKHIL', 'ALLU ARJUN', 'ANAND DEVARAKONDA', 'CHIRANJEEVI', 'MAHESH BABU', 'NAGA CHAITANYA', 'NAVEEN POLISHETTY', 'NTR', 'PAWAN KALYAN', 'PRABHAS', 'PRAKASHRAJ', 'RANA', 'SAHIDEV VIKRAM', 'SAI DHARAM TEJ', 'SIDDHART', 'SUNDEEP KISHAN', 'VAINSHNAV TEJ', 'VARUN TEJ', 'VENKATESH', 'VIJAY DEVARA KONDA']\n",
      "MAHESH BABU\n",
      "['A S Reddy', 'AKHIL', 'ALLU ARJUN', 'ANAND DEVARAKONDA', 'CHIRANJEEVI', 'MAHESH BABU', 'NAGA CHAITANYA', 'NAVEEN POLISHETTY', 'NTR', 'PAWAN KALYAN', 'PRABHAS', 'PRAKASHRAJ', 'RANA', 'SAHIDEV VIKRAM', 'SAI DHARAM TEJ', 'SIDDHART', 'SUNDEEP KISHAN', 'VAINSHNAV TEJ', 'VARUN TEJ', 'VENKATESH', 'VIJAY DEVARA KONDA']\n",
      "NAGA CHAITANYA\n",
      "['A S Reddy', 'AKHIL', 'ALLU ARJUN', 'ANAND DEVARAKONDA', 'CHIRANJEEVI', 'MAHESH BABU', 'NAGA CHAITANYA', 'NAVEEN POLISHETTY', 'NTR', 'PAWAN KALYAN', 'PRABHAS', 'PRAKASHRAJ', 'RANA', 'SAHIDEV VIKRAM', 'SAI DHARAM TEJ', 'SIDDHART', 'SUNDEEP KISHAN', 'VAINSHNAV TEJ', 'VARUN TEJ', 'VENKATESH', 'VIJAY DEVARA KONDA']\n",
      "NAVEEN POLISHETTY\n",
      "['A S Reddy', 'AKHIL', 'ALLU ARJUN', 'ANAND DEVARAKONDA', 'CHIRANJEEVI', 'MAHESH BABU', 'NAGA CHAITANYA', 'NAVEEN POLISHETTY', 'NTR', 'PAWAN KALYAN', 'PRABHAS', 'PRAKASHRAJ', 'RANA', 'SAHIDEV VIKRAM', 'SAI DHARAM TEJ', 'SIDDHART', 'SUNDEEP KISHAN', 'VAINSHNAV TEJ', 'VARUN TEJ', 'VENKATESH', 'VIJAY DEVARA KONDA']\n",
      "NTR\n",
      "['A S Reddy', 'AKHIL', 'ALLU ARJUN', 'ANAND DEVARAKONDA', 'CHIRANJEEVI', 'MAHESH BABU', 'NAGA CHAITANYA', 'NAVEEN POLISHETTY', 'NTR', 'PAWAN KALYAN', 'PRABHAS', 'PRAKASHRAJ', 'RANA', 'SAHIDEV VIKRAM', 'SAI DHARAM TEJ', 'SIDDHART', 'SUNDEEP KISHAN', 'VAINSHNAV TEJ', 'VARUN TEJ', 'VENKATESH', 'VIJAY DEVARA KONDA']\n",
      "PAWAN KALYAN\n",
      "['A S Reddy', 'AKHIL', 'ALLU ARJUN', 'ANAND DEVARAKONDA', 'CHIRANJEEVI', 'MAHESH BABU', 'NAGA CHAITANYA', 'NAVEEN POLISHETTY', 'NTR', 'PAWAN KALYAN', 'PRABHAS', 'PRAKASHRAJ', 'RANA', 'SAHIDEV VIKRAM', 'SAI DHARAM TEJ', 'SIDDHART', 'SUNDEEP KISHAN', 'VAINSHNAV TEJ', 'VARUN TEJ', 'VENKATESH', 'VIJAY DEVARA KONDA']\n",
      "PRABHAS\n",
      "['A S Reddy', 'AKHIL', 'ALLU ARJUN', 'ANAND DEVARAKONDA', 'CHIRANJEEVI', 'MAHESH BABU', 'NAGA CHAITANYA', 'NAVEEN POLISHETTY', 'NTR', 'PAWAN KALYAN', 'PRABHAS', 'PRAKASHRAJ', 'RANA', 'SAHIDEV VIKRAM', 'SAI DHARAM TEJ', 'SIDDHART', 'SUNDEEP KISHAN', 'VAINSHNAV TEJ', 'VARUN TEJ', 'VENKATESH', 'VIJAY DEVARA KONDA']\n",
      "PRAKASHRAJ\n",
      "['A S Reddy', 'AKHIL', 'ALLU ARJUN', 'ANAND DEVARAKONDA', 'CHIRANJEEVI', 'MAHESH BABU', 'NAGA CHAITANYA', 'NAVEEN POLISHETTY', 'NTR', 'PAWAN KALYAN', 'PRABHAS', 'PRAKASHRAJ', 'RANA', 'SAHIDEV VIKRAM', 'SAI DHARAM TEJ', 'SIDDHART', 'SUNDEEP KISHAN', 'VAINSHNAV TEJ', 'VARUN TEJ', 'VENKATESH', 'VIJAY DEVARA KONDA']\n",
      "RANA\n",
      "['A S Reddy', 'AKHIL', 'ALLU ARJUN', 'ANAND DEVARAKONDA', 'CHIRANJEEVI', 'MAHESH BABU', 'NAGA CHAITANYA', 'NAVEEN POLISHETTY', 'NTR', 'PAWAN KALYAN', 'PRABHAS', 'PRAKASHRAJ', 'RANA', 'SAHIDEV VIKRAM', 'SAI DHARAM TEJ', 'SIDDHART', 'SUNDEEP KISHAN', 'VAINSHNAV TEJ', 'VARUN TEJ', 'VENKATESH', 'VIJAY DEVARA KONDA']\n",
      "SAHIDEV VIKRAM\n",
      "['A S Reddy', 'AKHIL', 'ALLU ARJUN', 'ANAND DEVARAKONDA', 'CHIRANJEEVI', 'MAHESH BABU', 'NAGA CHAITANYA', 'NAVEEN POLISHETTY', 'NTR', 'PAWAN KALYAN', 'PRABHAS', 'PRAKASHRAJ', 'RANA', 'SAHIDEV VIKRAM', 'SAI DHARAM TEJ', 'SIDDHART', 'SUNDEEP KISHAN', 'VAINSHNAV TEJ', 'VARUN TEJ', 'VENKATESH', 'VIJAY DEVARA KONDA']\n",
      "SAI DHARAM TEJ\n",
      "['A S Reddy', 'AKHIL', 'ALLU ARJUN', 'ANAND DEVARAKONDA', 'CHIRANJEEVI', 'MAHESH BABU', 'NAGA CHAITANYA', 'NAVEEN POLISHETTY', 'NTR', 'PAWAN KALYAN', 'PRABHAS', 'PRAKASHRAJ', 'RANA', 'SAHIDEV VIKRAM', 'SAI DHARAM TEJ', 'SIDDHART', 'SUNDEEP KISHAN', 'VAINSHNAV TEJ', 'VARUN TEJ', 'VENKATESH', 'VIJAY DEVARA KONDA']\n",
      "SIDDHART\n",
      "['A S Reddy', 'AKHIL', 'ALLU ARJUN', 'ANAND DEVARAKONDA', 'CHIRANJEEVI', 'MAHESH BABU', 'NAGA CHAITANYA', 'NAVEEN POLISHETTY', 'NTR', 'PAWAN KALYAN', 'PRABHAS', 'PRAKASHRAJ', 'RANA', 'SAHIDEV VIKRAM', 'SAI DHARAM TEJ', 'SIDDHART', 'SUNDEEP KISHAN', 'VAINSHNAV TEJ', 'VARUN TEJ', 'VENKATESH', 'VIJAY DEVARA KONDA']\n",
      "SUNDEEP KISHAN\n",
      "['A S Reddy', 'AKHIL', 'ALLU ARJUN', 'ANAND DEVARAKONDA', 'CHIRANJEEVI', 'MAHESH BABU', 'NAGA CHAITANYA', 'NAVEEN POLISHETTY', 'NTR', 'PAWAN KALYAN', 'PRABHAS', 'PRAKASHRAJ', 'RANA', 'SAHIDEV VIKRAM', 'SAI DHARAM TEJ', 'SIDDHART', 'SUNDEEP KISHAN', 'VAINSHNAV TEJ', 'VARUN TEJ', 'VENKATESH', 'VIJAY DEVARA KONDA']\n",
      "VAINSHNAV TEJ\n",
      "['A S Reddy', 'AKHIL', 'ALLU ARJUN', 'ANAND DEVARAKONDA', 'CHIRANJEEVI', 'MAHESH BABU', 'NAGA CHAITANYA', 'NAVEEN POLISHETTY', 'NTR', 'PAWAN KALYAN', 'PRABHAS', 'PRAKASHRAJ', 'RANA', 'SAHIDEV VIKRAM', 'SAI DHARAM TEJ', 'SIDDHART', 'SUNDEEP KISHAN', 'VAINSHNAV TEJ', 'VARUN TEJ', 'VENKATESH', 'VIJAY DEVARA KONDA']\n",
      "VARUN TEJ\n",
      "['A S Reddy', 'AKHIL', 'ALLU ARJUN', 'ANAND DEVARAKONDA', 'CHIRANJEEVI', 'MAHESH BABU', 'NAGA CHAITANYA', 'NAVEEN POLISHETTY', 'NTR', 'PAWAN KALYAN', 'PRABHAS', 'PRAKASHRAJ', 'RANA', 'SAHIDEV VIKRAM', 'SAI DHARAM TEJ', 'SIDDHART', 'SUNDEEP KISHAN', 'VAINSHNAV TEJ', 'VARUN TEJ', 'VENKATESH', 'VIJAY DEVARA KONDA']\n",
      "VENKATESH\n",
      "['A S Reddy', 'AKHIL', 'ALLU ARJUN', 'ANAND DEVARAKONDA', 'CHIRANJEEVI', 'MAHESH BABU', 'NAGA CHAITANYA', 'NAVEEN POLISHETTY', 'NTR', 'PAWAN KALYAN', 'PRABHAS', 'PRAKASHRAJ', 'RANA', 'SAHIDEV VIKRAM', 'SAI DHARAM TEJ', 'SIDDHART', 'SUNDEEP KISHAN', 'VAINSHNAV TEJ', 'VARUN TEJ', 'VENKATESH', 'VIJAY DEVARA KONDA']\n",
      "VIJAY DEVARA KONDA\n",
      "[]\n",
      "New folder\n"
     ]
    }
   ],
   "source": [
    "for i in directories:\n",
    "    \n",
    "    os.chdir(os.path.join(Root,i))\n",
    "    Gender=os.listdir()\n",
    "    \n",
    "    for j in Gender:\n",
    "        os.chdir(os.path.join('./',j))\n",
    "        celebs=os.listdir()\n",
    "        print(celebs)\n",
    "        print(j)\n",
    "        for k in celebs:\n",
    "            os.chdir(os.path.join('./',k))\n",
    "            imgs=os.listdir()\n",
    "            print(celebs)\n",
    "            print(k)\n",
    "            for l in imgs:\n",
    "                if j.upper() ==\"MALE\":\n",
    "                    male_img.append(os.path.abspath(l))\n",
    "                else:\n",
    "                    female_img.append(os.path.abspath(l))\n",
    "            os.chdir('../')\n",
    "        os.chdir('../')\n",
    "    os.chdir('../')"
   ]
  },
  {
   "cell_type": "code",
   "execution_count": 6,
   "id": "5094b301",
   "metadata": {},
   "outputs": [
    {
     "name": "stdout",
     "output_type": "stream",
     "text": [
      "390\n",
      "50\n"
     ]
    }
   ],
   "source": [
    "print(len(male_img))\n",
    "print(len(female_img))"
   ]
  },
  {
   "cell_type": "code",
   "execution_count": 7,
   "id": "e9073ff3",
   "metadata": {},
   "outputs": [
    {
     "name": "stdout",
     "output_type": "stream",
     "text": [
      "390,50\n"
     ]
    }
   ],
   "source": [
    "k1=set(male_img)\n",
    "k2=set(female_img)\n",
    "print(f\"{len(k1)},{len(k2)}\")"
   ]
  },
  {
   "cell_type": "code",
   "execution_count": 8,
   "id": "1c7ea6b7",
   "metadata": {},
   "outputs": [],
   "source": [
    "for i in male_img:\n",
    "    k=i.split(\"\\\\\")\n",
    "    male_names.append(k[-2])\n",
    "for i in female_img:\n",
    "    k=i.split(\"\\\\\")\n",
    "    female_names.append(k[-2])"
   ]
  },
  {
   "cell_type": "code",
   "execution_count": 9,
   "id": "3b33f8cf",
   "metadata": {},
   "outputs": [
    {
     "name": "stdout",
     "output_type": "stream",
     "text": [
      "64\n",
      "10\n"
     ]
    }
   ],
   "source": [
    "print(len(set(male_names)))\n",
    "print(len(set(female_names)))"
   ]
  },
  {
   "cell_type": "code",
   "execution_count": 10,
   "id": "ee763b4a",
   "metadata": {},
   "outputs": [],
   "source": [
    "male_df=pd.DataFrame({\"Name\":tuple(male_names),\"Path\":tuple(male_img)})\n",
    "female_df=pd.DataFrame({\"Name\":tuple(female_names),\"Path\":tuple(female_img)})"
   ]
  },
  {
   "cell_type": "code",
   "execution_count": 11,
   "id": "1f07a8aa",
   "metadata": {},
   "outputs": [
    {
     "data": {
      "text/html": [
       "<div>\n",
       "<style scoped>\n",
       "    .dataframe tbody tr th:only-of-type {\n",
       "        vertical-align: middle;\n",
       "    }\n",
       "\n",
       "    .dataframe tbody tr th {\n",
       "        vertical-align: top;\n",
       "    }\n",
       "\n",
       "    .dataframe thead th {\n",
       "        text-align: right;\n",
       "    }\n",
       "</style>\n",
       "<table border=\"1\" class=\"dataframe\">\n",
       "  <thead>\n",
       "    <tr style=\"text-align: right;\">\n",
       "      <th></th>\n",
       "      <th>Name</th>\n",
       "      <th>Path</th>\n",
       "    </tr>\n",
       "  </thead>\n",
       "  <tbody>\n",
       "    <tr>\n",
       "      <th>0</th>\n",
       "      <td>BHUWANESWAR KUMAR</td>\n",
       "      <td>c:\\Users\\ASUS\\OneDrive - K L University\\Studen...</td>\n",
       "    </tr>\n",
       "    <tr>\n",
       "      <th>1</th>\n",
       "      <td>BHUWANESWAR KUMAR</td>\n",
       "      <td>c:\\Users\\ASUS\\OneDrive - K L University\\Studen...</td>\n",
       "    </tr>\n",
       "    <tr>\n",
       "      <th>2</th>\n",
       "      <td>BHUWANESWAR KUMAR</td>\n",
       "      <td>c:\\Users\\ASUS\\OneDrive - K L University\\Studen...</td>\n",
       "    </tr>\n",
       "    <tr>\n",
       "      <th>3</th>\n",
       "      <td>BHUWANESWAR KUMAR</td>\n",
       "      <td>c:\\Users\\ASUS\\OneDrive - K L University\\Studen...</td>\n",
       "    </tr>\n",
       "    <tr>\n",
       "      <th>4</th>\n",
       "      <td>BHUWANESWAR KUMAR</td>\n",
       "      <td>c:\\Users\\ASUS\\OneDrive - K L University\\Studen...</td>\n",
       "    </tr>\n",
       "  </tbody>\n",
       "</table>\n",
       "</div>"
      ],
      "text/plain": [
       "                Name                                               Path\n",
       "0  BHUWANESWAR KUMAR  c:\\Users\\ASUS\\OneDrive - K L University\\Studen...\n",
       "1  BHUWANESWAR KUMAR  c:\\Users\\ASUS\\OneDrive - K L University\\Studen...\n",
       "2  BHUWANESWAR KUMAR  c:\\Users\\ASUS\\OneDrive - K L University\\Studen...\n",
       "3  BHUWANESWAR KUMAR  c:\\Users\\ASUS\\OneDrive - K L University\\Studen...\n",
       "4  BHUWANESWAR KUMAR  c:\\Users\\ASUS\\OneDrive - K L University\\Studen..."
      ]
     },
     "execution_count": 11,
     "metadata": {},
     "output_type": "execute_result"
    }
   ],
   "source": [
    "male_df.head()"
   ]
  },
  {
   "cell_type": "code",
   "execution_count": 12,
   "id": "fc64f9ef",
   "metadata": {},
   "outputs": [
    {
     "data": {
      "text/html": [
       "<div>\n",
       "<style scoped>\n",
       "    .dataframe tbody tr th:only-of-type {\n",
       "        vertical-align: middle;\n",
       "    }\n",
       "\n",
       "    .dataframe tbody tr th {\n",
       "        vertical-align: top;\n",
       "    }\n",
       "\n",
       "    .dataframe thead th {\n",
       "        text-align: right;\n",
       "    }\n",
       "</style>\n",
       "<table border=\"1\" class=\"dataframe\">\n",
       "  <thead>\n",
       "    <tr style=\"text-align: right;\">\n",
       "      <th></th>\n",
       "      <th>Name</th>\n",
       "      <th>Path</th>\n",
       "    </tr>\n",
       "  </thead>\n",
       "  <tbody>\n",
       "    <tr>\n",
       "      <th>0</th>\n",
       "      <td>SMRITHI MANDHANA</td>\n",
       "      <td>c:\\Users\\ASUS\\OneDrive - K L University\\Studen...</td>\n",
       "    </tr>\n",
       "    <tr>\n",
       "      <th>1</th>\n",
       "      <td>SMRITHI MANDHANA</td>\n",
       "      <td>c:\\Users\\ASUS\\OneDrive - K L University\\Studen...</td>\n",
       "    </tr>\n",
       "    <tr>\n",
       "      <th>2</th>\n",
       "      <td>SMRITHI MANDHANA</td>\n",
       "      <td>c:\\Users\\ASUS\\OneDrive - K L University\\Studen...</td>\n",
       "    </tr>\n",
       "    <tr>\n",
       "      <th>3</th>\n",
       "      <td>SMRITHI MANDHANA</td>\n",
       "      <td>c:\\Users\\ASUS\\OneDrive - K L University\\Studen...</td>\n",
       "    </tr>\n",
       "    <tr>\n",
       "      <th>4</th>\n",
       "      <td>SMRITHI MANDHANA</td>\n",
       "      <td>c:\\Users\\ASUS\\OneDrive - K L University\\Studen...</td>\n",
       "    </tr>\n",
       "  </tbody>\n",
       "</table>\n",
       "</div>"
      ],
      "text/plain": [
       "               Name                                               Path\n",
       "0  SMRITHI MANDHANA  c:\\Users\\ASUS\\OneDrive - K L University\\Studen...\n",
       "1  SMRITHI MANDHANA  c:\\Users\\ASUS\\OneDrive - K L University\\Studen...\n",
       "2  SMRITHI MANDHANA  c:\\Users\\ASUS\\OneDrive - K L University\\Studen...\n",
       "3  SMRITHI MANDHANA  c:\\Users\\ASUS\\OneDrive - K L University\\Studen...\n",
       "4  SMRITHI MANDHANA  c:\\Users\\ASUS\\OneDrive - K L University\\Studen..."
      ]
     },
     "execution_count": 12,
     "metadata": {},
     "output_type": "execute_result"
    }
   ],
   "source": [
    "female_df.head()"
   ]
  },
  {
   "cell_type": "code",
   "execution_count": 13,
   "id": "375692db",
   "metadata": {},
   "outputs": [],
   "source": [
    "male_df.to_pickle(\"Maledataset.pkl\")\n",
    "female_df.to_pickle(\"Femaledataset.pkl\")"
   ]
  },
  {
   "cell_type": "code",
   "execution_count": null,
   "id": "735b3dd8",
   "metadata": {},
   "outputs": [
    {
     "data": {
      "text/html": [
       "<div>\n",
       "<style scoped>\n",
       "    .dataframe tbody tr th:only-of-type {\n",
       "        vertical-align: middle;\n",
       "    }\n",
       "\n",
       "    .dataframe tbody tr th {\n",
       "        vertical-align: top;\n",
       "    }\n",
       "\n",
       "    .dataframe thead th {\n",
       "        text-align: right;\n",
       "    }\n",
       "</style>\n",
       "<table border=\"1\" class=\"dataframe\">\n",
       "  <thead>\n",
       "    <tr style=\"text-align: right;\">\n",
       "      <th></th>\n",
       "      <th>Name</th>\n",
       "      <th>Path</th>\n",
       "      <th>pixels</th>\n",
       "      <th>face_vector_raw</th>\n",
       "    </tr>\n",
       "  </thead>\n",
       "  <tbody>\n",
       "    <tr>\n",
       "      <th>0</th>\n",
       "      <td>SMRITHI MANDHANA</td>\n",
       "      <td>Cricketers\\Female\\SMRITHI MANDHANA\\SMD-1.jpg</td>\n",
       "      <td>[[[229, 245, 255], [227, 243, 255], [225, 241,...</td>\n",
       "      <td>[0.030066377, 0.014467691, 0.018511541, 0.0213...</td>\n",
       "    </tr>\n",
       "    <tr>\n",
       "      <th>1</th>\n",
       "      <td>SMRITHI MANDHANA</td>\n",
       "      <td>Cricketers\\Female\\SMRITHI MANDHANA\\SMD-2.jpg</td>\n",
       "      <td>[[[255, 255, 255], [255, 255, 255], [255, 255,...</td>\n",
       "      <td>[0.03895766, 0.019085914, 0.015509607, 0.02036...</td>\n",
       "    </tr>\n",
       "    <tr>\n",
       "      <th>2</th>\n",
       "      <td>SMRITHI MANDHANA</td>\n",
       "      <td>Cricketers\\Female\\SMRITHI MANDHANA\\SMD-3.jpeg</td>\n",
       "      <td>[[[118, 154, 184], [117, 147, 174], [101, 122,...</td>\n",
       "      <td>[0.0012497504, -0.011235083, 0.0120621165, 0.0...</td>\n",
       "    </tr>\n",
       "    <tr>\n",
       "      <th>3</th>\n",
       "      <td>SMRITHI MANDHANA</td>\n",
       "      <td>Cricketers\\Female\\SMRITHI MANDHANA\\SMD-4.jpeg</td>\n",
       "      <td>[[[113, 171, 213], [113, 171, 213], [113, 171,...</td>\n",
       "      <td>[-0.0014004238, 0.018335078, 0.0040921043, 0.0...</td>\n",
       "    </tr>\n",
       "    <tr>\n",
       "      <th>4</th>\n",
       "      <td>SMRITHI MANDHANA</td>\n",
       "      <td>Cricketers\\Female\\SMRITHI MANDHANA\\SMD-5.jpeg</td>\n",
       "      <td>[[[128, 141, 143], [139, 152, 154], [140, 152,...</td>\n",
       "      <td>[-0.00072236126, -0.017860215, 0.019344214, 0....</td>\n",
       "    </tr>\n",
       "  </tbody>\n",
       "</table>\n",
       "</div>"
      ],
      "text/plain": [
       "               Name                                           Path  \\\n",
       "0  SMRITHI MANDHANA   Cricketers\\Female\\SMRITHI MANDHANA\\SMD-1.jpg   \n",
       "1  SMRITHI MANDHANA   Cricketers\\Female\\SMRITHI MANDHANA\\SMD-2.jpg   \n",
       "2  SMRITHI MANDHANA  Cricketers\\Female\\SMRITHI MANDHANA\\SMD-3.jpeg   \n",
       "3  SMRITHI MANDHANA  Cricketers\\Female\\SMRITHI MANDHANA\\SMD-4.jpeg   \n",
       "4  SMRITHI MANDHANA  Cricketers\\Female\\SMRITHI MANDHANA\\SMD-5.jpeg   \n",
       "\n",
       "                                              pixels  \\\n",
       "0  [[[229, 245, 255], [227, 243, 255], [225, 241,...   \n",
       "1  [[[255, 255, 255], [255, 255, 255], [255, 255,...   \n",
       "2  [[[118, 154, 184], [117, 147, 174], [101, 122,...   \n",
       "3  [[[113, 171, 213], [113, 171, 213], [113, 171,...   \n",
       "4  [[[128, 141, 143], [139, 152, 154], [140, 152,...   \n",
       "\n",
       "                                     face_vector_raw  \n",
       "0  [0.030066377, 0.014467691, 0.018511541, 0.0213...  \n",
       "1  [0.03895766, 0.019085914, 0.015509607, 0.02036...  \n",
       "2  [0.0012497504, -0.011235083, 0.0120621165, 0.0...  \n",
       "3  [-0.0014004238, 0.018335078, 0.0040921043, 0.0...  \n",
       "4  [-0.00072236126, -0.017860215, 0.019344214, 0....  "
      ]
     },
     "execution_count": 2,
     "metadata": {},
     "output_type": "execute_result"
    }
   ],
   "source": [
    "# import pandas as pd\n",
    "# a= pd.read_pickle(\"Femalepatterns.pkl\")\n",
    "# a.head()"
   ]
  },
  {
   "cell_type": "code",
   "execution_count": null,
   "id": "38b9b3fa",
   "metadata": {},
   "outputs": [],
   "source": []
  }
 ],
 "metadata": {
  "kernelspec": {
   "display_name": "Python 3",
   "language": "python",
   "name": "python3"
  },
  "language_info": {
   "codemirror_mode": {
    "name": "ipython",
    "version": 3
   },
   "file_extension": ".py",
   "mimetype": "text/x-python",
   "name": "python",
   "nbconvert_exporter": "python",
   "pygments_lexer": "ipython3",
   "version": "3.12.10"
  }
 },
 "nbformat": 4,
 "nbformat_minor": 5
}
